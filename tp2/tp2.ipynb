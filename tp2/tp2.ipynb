{
 "cells": [
  {
   "cell_type": "code",
   "execution_count": null,
   "metadata": {},
   "outputs": [],
   "source": [
    "import pandas as pd\n",
    "import geoplot as gplt\n",
    "import numpy as np\n",
    "import os\n",
    "import seaborn as sns; sns.set()\n",
    "import matplotlib.pyplot as plt\n",
    "import geopandas as gpd\n",
    "import pycountry\n",
    "import descartes\n",
    "import contextily as ctx\n",
    "from shapely.geometry import Point, Polygon\n",
    "from mpl_toolkits.axes_grid1 import host_subplot\n",
    "import mpl_toolkits.axisartist as AA\n",
    "from matplotlib.font_manager import FontProperties"
   ]
  },
  {
   "cell_type": "code",
   "execution_count": null,
   "metadata": {},
   "outputs": [],
   "source": [
    "df = pd.read_csv(\"./dataset_incendios.csv\", delimiter=\";\", decimal=\",\", encoding=\"iso-8859-1\")\n",
    "df['provincia_id_fixed'] = [str(x).zfill(2) for x in df['provincia_id']]\n",
    "df['depar_id_temp'] = [str(x).zfill(3) for x in df['departamento_id']]\n",
    "df['departamento_id_fixed'] = [prov_id + dept_id for prov_id, dept_id in zip([x for x in df['provincia_id_fixed']], [y for y in df['depar_id_temp']])]\n",
    "new_cols = list(set(df.columns) - set(['depar_id_temp', 'provincia_id', 'departamento_id']))\n",
    "df = df[new_cols]\n",
    "geo_provinces = gpd.read_file('./provincias/provincias.shp')\n",
    "geo_departments = gpd.read_file('./departamentos/departamentos.shp')\n",
    "geo_departments_centroid = gpd.read_file('./departamentos/departamentos.shp')\n",
    "geo_departments_centroid['geometry'] = geo_departments_centroid['geometry'].centroid"
   ]
  },
  {
   "cell_type": "code",
   "execution_count": null,
   "metadata": {},
   "outputs": [],
   "source": [
    "#fires_by_province = df.groupby(\"provincia_id\").size().reset_index(name='counts')\n",
    "fires_by_province = df.groupby(\"provincia_id_fixed\")['cant_focos'].agg('sum').reset_index(name='counts')\n",
    "geo_provinces_to_plot = pd.merge(geo_provinces, fires_by_province, left_on='IN1', right_on='provincia_id_fixed', how='outer')\n",
    "geo_provinces_to_plot = geo_provinces_to_plot[list(['NAM', 'IN1', 'geometry', 'counts'])].fillna(0)\n",
    "geo_provinces_to_plot['rank'] = geo_provinces_to_plot['counts'].rank()"
   ]
  },
  {
   "cell_type": "code",
   "execution_count": null,
   "metadata": {},
   "outputs": [],
   "source": [
    "sup_by_department = df.groupby('departamento_id_fixed')['sup_afectada'].agg('sum').reset_index(name='counts')\n",
    "geo_departments_to_plot = pd.merge(geo_departments_centroid, sup_by_department, left_on='IN1', right_on='departamento_id_fixed', how='inner').fillna(0)\n",
    "geo_departments_to_plot['rank'] = geo_departments_to_plot['counts'].rank()"
   ]
  },
  {
   "cell_type": "code",
   "execution_count": null,
   "metadata": {},
   "outputs": [],
   "source": [
    "ax = gplt.pointplot(geo_departments_to_plot, scale='counts', hue='counts',\n",
    "                    scheme='EqualInterval', legend=True, legend_var='hue',\n",
    "                    limits=(2, 20), figsize=(15, 15), cmap='Reds',\n",
    "                    legend_kwargs={'loc': 'upper right'})\n",
    "ax.set_title(\"Hectáreas afectas en incendios forestales (2011 - 2016)\", size=20)\n",
    "gplt.polyplot(geo_provinces_to_plot, ax=ax, edgecolor='white', facecolor='#C5C5C5', extent=[-74.0, -57.0, -50.0, -21.0])\n",
    "plt.savefig('./hectareas_afectadas.png')\n",
    "plt.box(on=None)"
   ]
  },
  {
   "cell_type": "code",
   "execution_count": null,
   "metadata": {},
   "outputs": [],
   "source": [
    "ax = gplt.choropleth(geo_provinces_to_plot, hue='rank', scheme='EqualInterval',\n",
    "                    legend=True, figsize=(15, 15), cmap='Reds',\n",
    "                    legend_kwargs={'loc': 'upper right'})\n",
    "ax.set_title(\"Focos de incendios forestales (2011 - 2016)\", size=20)\n",
    "gplt.polyplot(geo_provinces_to_plot, ax=ax, extent=[-74.0, -57.0, -50.0, -21.0])\n",
    "plt.savefig('./focos_totales.png')\n",
    "plt.box(on=None)"
   ]
  },
  {
   "cell_type": "code",
   "execution_count": null,
   "metadata": {},
   "outputs": [],
   "source": [
    "area_by_year = df.groupby('año_inicial')['sup_afectada'].agg('sum').reset_index(name='superficie_total_inicio')\n",
    "quantity_by_year = df.groupby('año_inicial')['cant_focos'].agg('sum').reset_index(name='focos_total_inicio')\n",
    "start_by_year = pd.merge(area_by_year, quantity_by_year, on='año_inicial', how='inner')"
   ]
  },
  {
   "cell_type": "code",
   "execution_count": null,
   "metadata": {},
   "outputs": [],
   "source": [
    "font = FontProperties()\n",
    "font.set_family('serif')\n",
    "font.set_name('DejaVu Sans')\n",
    "font.set_style('italic')\n",
    "\n",
    "plt.figure(figsize=(10,7))\n",
    "host = host_subplot(111)\n",
    "par = host.twinx()\n",
    "\n",
    "host.set_title(\"Superficie vs Cantidad de focos (por año)\", size=14)\n",
    "host.set_xlabel(\"Año\")\n",
    "host.set_ylabel(\"Hectáreas\")\n",
    "host.set_facecolor('white')\n",
    "par.set_ylabel(\"Cantidad\")\n",
    "\n",
    "p1, = host.plot(start_by_year['año_inicial'], start_by_year['superficie_total_inicio'], \"o-\", color='#b3e2cd', label='Superficie', linewidth=3)\n",
    "p2, = par.plot(start_by_year['año_inicial'], start_by_year['focos_total_inicio'], \"^-\", color='#F4CAE4', label='Cantidad', linewidth=3)\n",
    "\n",
    "font_legend = FontProperties(weight='bold', style='normal', size=14)\n",
    "leg = plt.legend(prop=font_legend)\n",
    "host.yaxis.get_label().set_color(p1.get_color())\n",
    "leg.texts[0].set_color(p1.get_color())\n",
    "par.yaxis.get_label().set_color(p2.get_color())\n",
    "leg.texts[1].set_color(p2.get_color())\n",
    "plt.savefig('./evolucion_anio.svg', format='svg')\n",
    "plt.show()"
   ]
  },
  {
   "cell_type": "code",
   "execution_count": null,
   "metadata": {},
   "outputs": [],
   "source": [
    "ax = start_by_year.plot.bar(x='año_inicial', y=['superficie_total_inicio'],\n",
    "                      rot=0, legend=False, figsize=(5, 5), colormap='Pastel2')\n",
    "ax.set_title(\"Superficie afectada (2011 - 2016)\", size=20)\n",
    "ax.set_ylabel('hectáreas')\n",
    "#ax.legend([\"Superficie quemada\"],loc='upper center', fancybox=True, bbox_to_anchor=(1.2, 1))\n",
    "plt.box(on=None)"
   ]
  },
  {
   "cell_type": "code",
   "execution_count": null,
   "metadata": {},
   "outputs": [],
   "source": [
    "ax = start_by_year.plot.bar(x='año_inicial', y=['focos_total_inicio'],\n",
    "                      rot=0, legend=False, figsize=(5, 5), colormap='Pastel2')\n",
    "ax.set_title(\"Focos de incendio (2011 - 2016)\", size=20)\n",
    "ax.set_ylabel('Total')\n",
    "#ax.legend([\"Focos iniciados\", \"Focos finalizados\"],loc='upper center', fancybox=True, bbox_to_anchor=(1.1, 1))\n",
    "plt.box(on=None)"
   ]
  },
  {
   "cell_type": "code",
   "execution_count": null,
   "metadata": {},
   "outputs": [],
   "source": [
    "area_by_year = df.groupby(['año_inicial', 'provincia'])['sup_afectada'].agg('sum').reset_index()"
   ]
  },
  {
   "cell_type": "code",
   "execution_count": null,
   "metadata": {},
   "outputs": [],
   "source": [
    "fig = plt.figure(figsize=(15,15))\n",
    "for i, a_year in enumerate(area_by_year['año_inicial'].unique()):\n",
    "    ax = fig.add_subplot(3,2,i+1)\n",
    "    ax = area_by_year.loc[area_by_year['año_inicial'] == a_year].plot.barh(x='provincia', y='sup_afectada', legend=False, colormap='Pastel2', ax=plt.gca())\n",
    "    ax.set_title(f\"Superficia afectada {a_year}\", size=14)\n",
    "    ax.set_xlabel('Hectáreas')\n",
    "    ax.set_ylabel('')\n",
    "    plt.box(on=None)\n",
    "\n",
    "plt.tight_layout()\n",
    "plt.savefig('./evolucion_anio_provincia.png')"
   ]
  },
  {
   "cell_type": "code",
   "execution_count": null,
   "metadata": {},
   "outputs": [],
   "source": [
    "f, axes = plt.subplots(figsize=(20, 25), ncols=2, nrows=4)\n",
    "\n",
    "ax = start_by_year.plot.bar(x='año_inicial', y=['superficie_total_inicio'],\n",
    "                      rot=0, legend=False, colormap='Pastel2', ax=axes[0][0])\n",
    "ax.set_title(\"Superficie total afectada (2011 - 2016)\", size=14)\n",
    "ax.set_ylabel('Hectáreas')\n",
    "ax.set_xlabel('Año')\n",
    "#ax.legend([\"Superficie quemada\"],loc='upper center', fancybox=True, bbox_to_anchor=(1.2, 1))\n",
    "\n",
    "map_to_coord = {0: (0,1), 1: (1,0), 2: (1,1), 3: (2,0), 4: (2,1)}\n",
    "for i, a_year in enumerate(area_by_year['año_inicial'].unique()):\n",
    "    ax = area_by_year.loc[area_by_year['año_inicial'] == a_year].plot.barh(\n",
    "        x='provincia', y='sup_afectada', legend=False, color='#B3CDE3', ax=axes[map_to_coord[i][0]][map_to_coord[i][1]])\n",
    "    ax.set_title(f\"Superficia afectada {a_year}\", size=14)\n",
    "    ax.set_xlabel('Hectáreas')\n",
    "    ax.set_ylabel('')\n",
    "    plt.tight_layout()\n",
    "\n",
    "ax = gplt.pointplot(geo_departments_to_plot, scale='counts', hue='counts',\n",
    "                    scheme='EqualInterval', legend=True, legend_var='hue',\n",
    "                    limits=(1, 10), cmap='Reds',\n",
    "                    legend_kwargs={'loc': 'upper right', 'bbox_to_anchor': (0.5, 0., 0.5, 0.5)}, ax=axes[3][0])\n",
    "ax.set_title(\"Hectáreas afectas en incendios forestales (2011 - 2016)\", size=14)\n",
    "gplt.polyplot(geo_provinces_to_plot, ax=axes[3][0], edgecolor='white', facecolor='gray', extent=[-74.0, -57.0, -50.0, -21.0])\n",
    "\n",
    "ax = gplt.choropleth(geo_provinces_to_plot, hue='rank', scheme='EqualInterval',\n",
    "                    legend=True, cmap='Reds',\n",
    "                    legend_kwargs={'loc': 'upper right', 'bbox_to_anchor': (0.5, 0., 0.5, 0.5)}, ax=axes[3][1])\n",
    "ax.set_title(\"Cantidad de focos de incendios forestales (2011 - 2016)\", size=14)\n",
    "gplt.polyplot(geo_provinces_to_plot, ax=axes[3][1], extent=[-74.0, -57.0, -50.0, -21.0])\n",
    "\n",
    "plt.savefig('./final.png')"
   ]
  },
  {
   "cell_type": "code",
   "execution_count": null,
   "metadata": {},
   "outputs": [],
   "source": [
    "fig = plt.figure(figsize=(3,10))\n",
    "for i, a_year in enumerate(area_by_year['año_inicial'].unique()):\n",
    "    ax = fig.add_subplot(5,1,i+1)\n",
    "    ax = area_by_year.loc[area_by_year['año_inicial'] == a_year].plot.barh(x='provincia', y='sup_afectada', legend=False, colormap='Pastel2', ax=plt.gca())\n",
    "    ax.tick_params(labelsize=6)\n",
    "    ax.set_title(f\"Superficie (en ha) afectada {a_year}\", size=10)\n",
    "    ax.set_ylabel('')\n",
    "    plt.box(on=None)\n",
    "\n",
    "plt.tight_layout()\n",
    "plt.savefig(f'./evolucion_anio_provincia_vertical.svg')"
   ]
  },
  {
   "cell_type": "code",
   "execution_count": null,
   "metadata": {},
   "outputs": [],
   "source": [
    "area_by_province = df.groupby('provincia')['sup_afectada'].agg('sum').reset_index(name='superficie_total_provincia')\n",
    "quantity_by_province = df.groupby('provincia')['cant_focos'].agg('sum').reset_index(name='focos_total_provincia')\n",
    "start_by_province = pd.merge(area_by_province, quantity_by_province, on='provincia', how='inner')"
   ]
  },
  {
   "cell_type": "code",
   "execution_count": null,
   "metadata": {},
   "outputs": [],
   "source": [
    "fig = plt.figure(figsize=(10,7)) # Create matplotlib figure\n",
    "\n",
    "ax = fig.add_subplot(111) # Create matplotlib axes\n",
    "ax2 = ax.twinx() # Create another axes that shares the same x-axis as ax.\n",
    "\n",
    "width = 0.3\n",
    "\n",
    "start_by_province.plot(x='provincia', y='superficie_total_provincia', kind='bar', color='#b3e2cd', ax=ax, width=width, position=1, rot=45, label='Superficie',  legend=False)\n",
    "start_by_province.plot(x='provincia', y='focos_total_provincia', kind='bar', color='#F4CAE4', ax=ax2, width=width, position=0, rot=45, label='Cantidad de focos', legend=False)\n",
    "\n",
    "ax.set_title(\"Histórico superficie vs cantidad de focos (por provincia)\", size=14)\n",
    "ax.set_facecolor('white')\n",
    "ax.set_ylabel('Hectáreas')\n",
    "ax.set_xlabel('Provincia')\n",
    "#\n",
    "#font_legend = FontProperties(weight='bold', style='normal', size=14)\n",
    "#leg = plt.legend(prop=font_legend)\n",
    "#host.yaxis.get_label().set_color(p1.get_color())\n",
    "#leg.texts[0].set_color(p1.get_color())\n",
    "#par.yaxis.get_label().set_color(p2.get_color())\n",
    "#leg.texts[1].set_color(p2.get_color())\n",
    "#\n",
    "h1, l1 = ax.get_legend_handles_labels()\n",
    "h2, l2 = ax2.get_legend_handles_labels()\n",
    "ax.legend(h1+h2, l1+l2, loc='best', bbox_to_anchor=(0.6, 1.0))\n",
    "ax2.set_facecolor('white')\n",
    "ax2.set_ylabel('Cantidad')\n",
    "\n",
    "plt.box(on=None)\n",
    "plt.savefig(f'./focos_superficie_provincia.svg')\n",
    "plt.show()"
   ]
  },
  {
   "cell_type": "code",
   "execution_count": null,
   "metadata": {},
   "outputs": [],
   "source": []
  }
 ],
 "metadata": {
  "kernelspec": {
   "display_name": "Python 3",
   "language": "python",
   "name": "python3"
  },
  "language_info": {
   "codemirror_mode": {
    "name": "ipython",
    "version": 3
   },
   "file_extension": ".py",
   "mimetype": "text/x-python",
   "name": "python",
   "nbconvert_exporter": "python",
   "pygments_lexer": "ipython3",
   "version": "3.7.7"
  }
 },
 "nbformat": 4,
 "nbformat_minor": 4
}
