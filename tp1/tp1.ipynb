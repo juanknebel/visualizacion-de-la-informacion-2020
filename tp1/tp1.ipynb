{
 "cells": [
  {
   "cell_type": "code",
   "execution_count": null,
   "metadata": {},
   "outputs": [],
   "source": [
    "import pandas as pd\n",
    "import geopandas\n",
    "import numpy as np\n",
    "import os\n",
    "import seaborn as sns; sns.set()\n",
    "import matplotlib.pyplot as plt\n",
    "import geopandas as gpd\n",
    "import pycountry\n",
    "import descartes\n",
    "import contextily as ctx\n",
    "from shapely.geometry import Point, Polygon"
   ]
  },
  {
   "cell_type": "code",
   "execution_count": null,
   "metadata": {},
   "outputs": [],
   "source": [
    "df_fires = pd.read_csv(\"./dataset_incendios.csv\", delimiter=\";\", encoding=\"iso-8859-1\")\n",
    "df_fires['departamento_id_fixed'] = [int(prov_id + dept_id) for prov_id, dept_id in zip([str(x) for x in df_fires['provincia_id']], [str(x).zfill(3) for x in df_fires['departamento_id']])]\n",
    "\n",
    "df_provinces = pd.read_csv(\"./provincias.csv\", delimiter=\",\")\n",
    "df_provinces.rename(columns={'centroide_lat': 'prov_lat', 'centroide_lon': 'prov_long', 'nombre': 'nombre_provincia', 'id': 'id_provincia'}, inplace=True)\n",
    "new_cols = list(set(df_provinces.columns) - set(['categoria', 'fuente', 'iso_nombre', 'nombre_completo']))\n",
    "df_provinces = df_provinces[new_cols]\n",
    "\n",
    "df_departments = pd.read_csv(\"./departamentos.csv\", delimiter=\",\")\n",
    "df_departments.rename(columns={'centroide_lat': 'dept_lat', 'centroide_lon': 'dept_long', 'nombre': 'nombre_departamento', 'id': 'id_departamento'}, inplace=True)\n",
    "new_cols = list(set(df_departments.columns) - set(['categoria', 'fuente', 'nombre_completo', 'provincia_id', 'provincia_interseccion', 'provincia_nombre']))\n",
    "df_departments = df_departments[new_cols]\n",
    "\n",
    "\n",
    "df = pd.merge(df_fires, df_provinces, left_on='provincia_id', right_on='id_provincia')\n",
    "df = pd.merge(df, df_departments, left_on='departamento_id_fixed', right_on='id_departamento')\n",
    "\n",
    "df['departamento_point'] = [Point(xy) for xy in zip(df['dept_long'], df['dept_lat'])]\n",
    "df['provincia_point'] = [Point(xy) for xy in zip(df['prov_long'], df['prov_lat'])]\n",
    "new_cols = list(set(df.columns) - set(['provincia', 'departamento_id', 'departamento', 'id_provincia', 'id_departamento', 'dept_lat', 'dept_long', 'prov_long', 'prov_lat', 'pais_id', 'iso_id']))\n",
    "df = df[new_cols]\n",
    "df['provincia_id'] = [str(x).zfill(2) for x in df['provincia_id']]\n",
    "df['departamento_id_fixed'] = [str(x).zfill(5) for x in df['departamento_id_fixed']]"
   ]
  },
  {
   "cell_type": "code",
   "execution_count": null,
   "metadata": {},
   "outputs": [],
   "source": [
    "geo_provinces = gpd.read_file('./provincias/provincias.shp')\n",
    "geo_departments = gpd.read_file('./departamentos/departamentos.shp')"
   ]
  },
  {
   "cell_type": "code",
   "execution_count": null,
   "metadata": {},
   "outputs": [],
   "source": [
    "#fires_by_province = df.groupby(\"provincia_id\").size().reset_index(name='counts')\n",
    "fires_by_province = df.groupby(\"provincia_id\")['cant_focos'].agg('sum').reset_index(name='counts')\n",
    "geo_provinces_to_plot = pd.merge(geo_provinces, fires_by_province, left_on='IN1', right_on='provincia_id', how='outer')\n",
    "geo_provinces_to_plot = geo_provinces_to_plot[list(['NAM', 'IN1', 'geometry', 'counts'])].fillna(0)\n",
    "geo_provinces_to_plot['rank'] = geo_provinces_to_plot['counts'].rank()"
   ]
  },
  {
   "cell_type": "code",
   "execution_count": null,
   "metadata": {},
   "outputs": [],
   "source": [
    "#fires_by_departments = df.groupby(\"departamento_id_fixed\").size().reset_index(name='counts')\n",
    "#geo_departaments_to_plot = pd.merge(geo_departments, fires_by_departments, left_on='IN1', right_on='departamento_id_fixed', how='outer')\n",
    "#geo_departaments_to_plot = geo_departaments_to_plot[list(['NAM', 'IN1', 'geometry', 'counts'])].fillna(0)\n",
    "#geo_departaments_to_plot['rank'] = geo_departaments_to_plot['counts'].rank()"
   ]
  },
  {
   "cell_type": "code",
   "execution_count": null,
   "metadata": {},
   "outputs": [],
   "source": [
    "geo_departaments_to_plot = pd.merge(geo_departments, df, left_on='IN1', right_on='departamento_id_fixed', how='inner')\n",
    "geo_departaments_to_plot = geo_departaments_to_plot[list(['NAM', 'IN1', 'departamento_point'])]\n",
    "geo_departaments_to_plot = gpd.GeoDataFrame(geo_departaments_to_plot, geometry=df.departamento_point)"
   ]
  },
  {
   "cell_type": "code",
   "execution_count": null,
   "metadata": {},
   "outputs": [],
   "source": [
    "fig, ax = plt.subplots(figsize=(20, 20))\n",
    "ax.set_aspect('equal')\n",
    "ax.set_xlim(-74.0, -50.0)\n",
    "ax.set_ylim(-57.0, -21.0)\n",
    "ax.set_xticks([])\n",
    "ax.set_yticks([])\n",
    "ax.set_title(\"Incendios forestales por provincia\", size=16)\n",
    "geo_provinces_to_plot.plot(column='rank', cmap='Reds', linewidth=0.8, ax=ax, edgecolor='0.8')\n",
    "geo_departaments_to_plot.plot(ax=ax, marker='o', color='blue', markersize=10); sns.set()\n",
    "plt.box(on=None)"
   ]
  },
  {
   "cell_type": "code",
   "execution_count": null,
   "metadata": {},
   "outputs": [],
   "source": []
  }
 ],
 "metadata": {
  "kernelspec": {
   "display_name": "Python 3",
   "language": "python",
   "name": "python3"
  },
  "language_info": {
   "codemirror_mode": {
    "name": "ipython",
    "version": 3
   },
   "file_extension": ".py",
   "mimetype": "text/x-python",
   "name": "python",
   "nbconvert_exporter": "python",
   "pygments_lexer": "ipython3",
   "version": "3.7.7"
  }
 },
 "nbformat": 4,
 "nbformat_minor": 4
}
