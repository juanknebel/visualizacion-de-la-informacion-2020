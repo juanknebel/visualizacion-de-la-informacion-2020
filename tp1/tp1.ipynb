{
 "cells": [
  {
   "cell_type": "code",
   "execution_count": null,
   "metadata": {},
   "outputs": [],
   "source": [
    "import pandas as pd\n",
    "import geoplot as gplt\n",
    "import numpy as np\n",
    "import os\n",
    "import seaborn as sns; sns.set()\n",
    "import matplotlib.pyplot as plt\n",
    "import geopandas as gpd\n",
    "import pycountry\n",
    "import descartes\n",
    "import contextily as ctx\n",
    "from shapely.geometry import Point, Polygon"
   ]
  },
  {
   "cell_type": "code",
   "execution_count": null,
   "metadata": {},
   "outputs": [],
   "source": [
    "df = pd.read_csv(\"./dataset_incendios.csv\", delimiter=\";\", decimal=\",\", encoding=\"iso-8859-1\")\n",
    "df['provincia_id_fixed'] = [str(x).zfill(2) for x in df['provincia_id']]\n",
    "df['depar_id_temp'] = [str(x).zfill(3) for x in df['departamento_id']]\n",
    "df['departamento_id_fixed'] = [prov_id + dept_id for prov_id, dept_id in zip([x for x in df['provincia_id_fixed']], [y for y in df['depar_id_temp']])]\n",
    "new_cols = list(set(df.columns) - set(['depar_id_temp', 'provincia_id', 'departamento_id']))\n",
    "df = df[new_cols]\n",
    "geo_provinces = gpd.read_file('./provincias/provincias.shp')\n",
    "geo_departments = gpd.read_file('./departamentos/departamentos.shp')\n",
    "geo_departments_centroid = gpd.read_file('./departamentos/departamentos.shp')\n",
    "geo_departments_centroid['geometry'] = geo_departments_centroid['geometry'].centroid"
   ]
  },
  {
   "cell_type": "code",
   "execution_count": null,
   "metadata": {},
   "outputs": [],
   "source": [
    "#fires_by_province = df.groupby(\"provincia_id\").size().reset_index(name='counts')\n",
    "fires_by_province = df.groupby(\"provincia_id_fixed\")['cant_focos'].agg('sum').reset_index(name='counts')\n",
    "geo_provinces_to_plot = pd.merge(geo_provinces, fires_by_province, left_on='IN1', right_on='provincia_id_fixed', how='outer')\n",
    "geo_provinces_to_plot = geo_provinces_to_plot[list(['NAM', 'IN1', 'geometry', 'counts'])].fillna(0)\n",
    "geo_provinces_to_plot['rank'] = geo_provinces_to_plot['counts'].rank()"
   ]
  },
  {
   "cell_type": "code",
   "execution_count": null,
   "metadata": {},
   "outputs": [],
   "source": [
    "sup_by_department = df.groupby('departamento_id_fixed')['sup_afectada'].agg('sum').reset_index(name='counts')\n",
    "geo_departments_to_plot = pd.merge(geo_departments_centroid, sup_by_department, left_on='IN1', right_on='departamento_id_fixed', how='inner').fillna(0)\n",
    "geo_departments_to_plot['rank'] = geo_departments_to_plot['counts'].rank()"
   ]
  },
  {
   "cell_type": "code",
   "execution_count": null,
   "metadata": {},
   "outputs": [],
   "source": [
    "ax = gplt.pointplot(geo_departments_to_plot, scale='counts', hue='counts',\n",
    "                    scheme='EqualInterval', legend=True, legend_var='hue',\n",
    "                    limits=(2, 20), figsize=(15, 15), cmap='Reds',\n",
    "                    legend_kwargs={'loc': 'upper right'})\n",
    "ax.set_title(\"Hectáreas afectas en incendios forestales (2011 - 2016)\", size=20)\n",
    "gplt.polyplot(geo_provinces_to_plot, ax=ax, edgecolor='white', facecolor='gray', extent=[-74.0, -57.0, -50.0, -21.0])\n",
    "plt.savefig('./hectareas_afectadas.png')\n",
    "plt.box(on=None)"
   ]
  },
  {
   "cell_type": "code",
   "execution_count": null,
   "metadata": {},
   "outputs": [],
   "source": [
    "ax = gplt.choropleth(geo_provinces_to_plot, hue='rank', scheme='EqualInterval',\n",
    "                    legend=True, figsize=(15, 15), cmap='Reds',\n",
    "                    legend_kwargs={'loc': 'upper right'})\n",
    "ax.set_title(\"Focos de incendios forestales (2011 - 2016)\", size=20)\n",
    "gplt.polyplot(geo_provinces_to_plot, ax=ax, extent=[-74.0, -57.0, -50.0, -21.0])\n",
    "plt.savefig('./focos_totales.png')\n",
    "plt.box(on=None)"
   ]
  }
 ],
 "metadata": {
  "kernelspec": {
   "display_name": "Python 3",
   "language": "python",
   "name": "python3"
  },
  "language_info": {
   "codemirror_mode": {
    "name": "ipython",
    "version": 3
   },
   "file_extension": ".py",
   "mimetype": "text/x-python",
   "name": "python",
   "nbconvert_exporter": "python",
   "pygments_lexer": "ipython3",
   "version": "3.7.7"
  }
 },
 "nbformat": 4,
 "nbformat_minor": 4
}
