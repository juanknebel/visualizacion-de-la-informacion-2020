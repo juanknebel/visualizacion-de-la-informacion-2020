{
 "cells": [
  {
   "cell_type": "code",
   "execution_count": 1,
   "metadata": {},
   "outputs": [],
   "source": [
    "import pymysql.cursors\n",
    "from datetime import datetime\n",
    "import matplotlib.pyplot as plt \n",
    "import pandas as pd\n",
    "import math\n",
    "import numpy as np\n",
    "from scipy import spatial"
   ]
  },
  {
   "cell_type": "code",
   "execution_count": 2,
   "metadata": {},
   "outputs": [],
   "source": [
    "def to_dict(keys, values):\n",
    "    return dict(zip(keys, values))"
   ]
  },
  {
   "cell_type": "code",
   "execution_count": 66,
   "metadata": {},
   "outputs": [],
   "source": [
    "class Graph:\n",
    "    '''\n",
    "    +------------------+\n",
    "    | edge_type        |\n",
    "    +----+-------------+\n",
    "    | id | description |\n",
    "    +----+-------------+\n",
    "    |  0 | Email       |\n",
    "    |  1 | Phone       |\n",
    "    |  2 | Sell        |\n",
    "    |  3 | Buy         |\n",
    "    |  4 | Authro-of   |\n",
    "    |  5 | Financial   |\n",
    "    |  6 | Travels-to  |\n",
    "    +----+-------------+\n",
    "    \n",
    "    +------------------------------------------------------------------+\n",
    "    | node_type                                                        |\n",
    "    +----+--------------------+----------------------------------------+\n",
    "    | id | description        | used_in                                |\n",
    "    +----+--------------------+----------------------------------------+\n",
    "    |  1 | Person             | Used in all channels                   |\n",
    "    |  2 | Product category   | For procurements, etype = 3            |\n",
    "    |  3 | Document           | For the co-authorship graph, etype = 4 |\n",
    "    |  4 | Financial category | For financial demographics, etype = 5  |\n",
    "    |  5 | Country            | For travel, etype = 6                  |\n",
    "    +----+--------------------+----------------------------------------+\n",
    "    \n",
    "    +-----------------------------------------------|\n",
    "    | demographic_categories                        |\n",
    "    +---------+-------------------------------------+\n",
    "    | node_id | category                            |\n",
    "    +---------+-------------------------------------+\n",
    "    |  459381 | Water and other public services     |\n",
    "    |  466907 | Electricity                         |\n",
    "    |  473173 | Household furnishings               |\n",
    "    |  503218 | Natural gas                         |\n",
    "    |  503701 | Miscellaneous                       |\n",
    "    |  510031 | Gifts                               |\n",
    "    |  520660 | Healthcare                          |\n",
    "    |  523927 | Restaurants                         |\n",
    "    |  527449 | Alcohol                             |\n",
    "    |  536346 | Home maintenance                    |\n",
    "    |  537281 | Housekeeping supplies               |\n",
    "    |  552988 | Money income before taxes           |\n",
    "    |  567195 | Personal insurance and pensions     |\n",
    "    |  571970 | Reading                             |\n",
    "    |  575030 | Transportation                      |\n",
    "    |  577992 | Education                           |\n",
    "    |  580426 | Telephone services                  |\n",
    "    |  589943 | Lodging away from home              |\n",
    "    |  595298 | Groceries                           |\n",
    "    |  595581 | Donations                           |\n",
    "    |  606730 | Entertainment                       |\n",
    "    |  616315 | Apparel and services                |\n",
    "    |  620120 | Personal taxes                      |\n",
    "    |  621924 | Mortgage payments                   |\n",
    "    |  630626 | Rented dwellings                    |\n",
    "    |  632961 | Personal care products and services |\n",
    "    |  640784 | Tobacco                             |\n",
    "    |  642329 | Household operations                |\n",
    "    |  644226 | Property taxes                      |\n",
    "    +---------+-------------------------------------+\n",
    "    '''\n",
    "    def __init__(self):\n",
    "        self.financial_type = {\n",
    "             459381: 'Water and other public services',\n",
    "             466907: 'Electricity',\n",
    "             473173: 'Household furnishings',\n",
    "             503218: 'Natural gas',\n",
    "             503701: 'Miscellaneous',\n",
    "             510031: 'Gifts',\n",
    "             520660: 'Healthcare',\n",
    "             523927: 'Restaurants',\n",
    "             527449: 'Alcohol',\n",
    "             536346: 'Home maintenance',\n",
    "             537281: 'Housekeeping supplies',\n",
    "             552988: 'Money income before taxes',\n",
    "             567195: 'Personal insurance and pensions',\n",
    "             571970: 'Reading',\n",
    "             575030: 'Transportation',\n",
    "             577992: 'Education',\n",
    "             580426: 'Telephone services',\n",
    "             589943: 'Lodging away from home',\n",
    "             595298: 'Groceries',\n",
    "             595581: 'Donations',\n",
    "             606730: 'Entertainment',\n",
    "             616315: 'Apparel and services',\n",
    "             620120: 'Personal taxes',\n",
    "             621924: 'Mortgage payments',\n",
    "             630626: 'Rented dwellings',\n",
    "             632961: 'Personal care products and services',\n",
    "             640784: 'Tobacco',\n",
    "             642329: 'Household operations',\n",
    "             644226: 'Property taxes'\n",
    "        }\n",
    "        self.edge_type = { 0: 'Email', 1: 'Phone', 2: 'Sell', 3: 'Buy', 4: 'Authro-of', 5: 'Financial', 6: 'Travels-to' }\n",
    "        self.node_type = { 1: 'Person', 2: 'Product category', 3: 'Document', 4: 'Financial category', 5: 'Country' }\n",
    "    \n",
    "    \n",
    "    def find_nodes_from_source_node(self, node_id):\n",
    "        return self.get_by_params(source=node_id)\n",
    "\n",
    "\n",
    "    def find_nodes_from_target_node(self, node_id):\n",
    "        return self.get_by_params(target=node_id)\n",
    "    \n",
    "    \n",
    "    def find_nodes_from_source_node_and_edge_type(self, node_id, edge_type):\n",
    "        return self.get_by_params(source=node_id, e_type=edge_type)\n",
    "    \n",
    "    \n",
    "    def find_nodes_from_target_node_and_edge_type(self, node_id, edge_type):\n",
    "        return self.get_by_params(target=node_id, e_type=edge_type)\n",
    "    \n",
    "    \n",
    "    def find_node_type(self, node_id):\n",
    "        pass\n",
    "    \n",
    "    \n",
    "    def find_by_params(self,\n",
    "                      source=None,\n",
    "                      e_type=None,\n",
    "                      target=None,\n",
    "                      time=None,\n",
    "                      weight=None,\n",
    "                      source_location=None,\n",
    "                      target_location=None,\n",
    "                      source_latitude=None,\n",
    "                      source_longitude=None,\n",
    "                      target_latitude=None,\n",
    "                      target_longitude=None):\n",
    "        pass\n",
    "    \n",
    "    \n",
    "    def node_type_description(self, type_id):\n",
    "        return self.node_type[type_id]\n",
    "    \n",
    "    \n",
    "    def edge_type_description(self, type_id):\n",
    "        return self.edge_type[type_id]\n",
    "    \n",
    "    \n",
    "    def financial_description(self, type_id):\n",
    "        return self.financial_type[type_id]\n",
    "    \n",
    "    \n",
    "    def all_financial_types(self):\n",
    "        return self.financial_type\n",
    "    \n",
    "    \n",
    "    def build_financial_dict(self, node_id):\n",
    "        '''\n",
    "        Take the relations between a node and their financial links, the noda could be source or target.\n",
    "        Translate the union in a dictionaty with the id of the financial category like key and the weight as value.\n",
    "        '''\n",
    "        filter_data_source = self.find_by_params(source=node_id, e_type=5)[['target', 'weight']].rename(columns={\"target\": \"financial\", \"weight\": \"value\"})\n",
    "        filter_data_target = self.find_by_params(target=node_id, e_type=5)[['source', 'weight']].rename(columns={\"source\": \"financial\", \"weight\": \"value\"})\n",
    "        filter_data = pd.concat([filter_data_source, filter_data_target], axis=0)\n",
    "        \n",
    "        return dict(zip(filter_data.financial, filter_data.value))"
   ]
  },
  {
   "cell_type": "code",
   "execution_count": 4,
   "metadata": {},
   "outputs": [],
   "source": [
    "class GraphMysql(Graph):\n",
    "    '''\n",
    "    +------------------------+\n",
    "    | Tables_in_vast         |\n",
    "    +------------------------+\n",
    "    | demographic_categories |\n",
    "    | edge_type              |\n",
    "    | links                  |\n",
    "    | node_type              |\n",
    "    | nodes                  |\n",
    "    +------------------------+\n",
    "    '''\n",
    "    def __init__(self, connection_config):\n",
    "        self.hostname = connection_config['hostname']\n",
    "        self.db_user = connection_config['user']\n",
    "        self.db_password = connection_config['password']\n",
    "        self.db_schema = connection_config['schema']\n",
    "        self.db_port = connection_config['port']\n",
    "        self.connection = pymysql.connect(host=self.hostname,\n",
    "                             user=self.db_user,\n",
    "                             password=self.db_password,\n",
    "                             db=self.db_schema,\n",
    "                             charset='utf8mb4',\n",
    "                             port=self.db_port,\n",
    "                             cursorclass=pymysql.cursors.DictCursor)\n",
    "        self.links = 'links'\n",
    "        self.nodes = 'nodes'\n",
    "        super().__init__()\n",
    "        \n",
    "        \n",
    "    def execute_sql_query(self, sql):\n",
    "        self.connection.ping(reconnect=True)\n",
    "        try:\n",
    "            with self.connection.cursor() as cursor:\n",
    "                cursor.execute(sql)\n",
    "                result = cursor.fetchall()\n",
    "        finally:\n",
    "            self.connection.close()\n",
    "        return result\n",
    "    \n",
    "    \n",
    "    def execute_sql_query_unique(self, sql):\n",
    "        self.connection.ping(reconnect=True)\n",
    "        try:\n",
    "            with self.connection.cursor() as cursor:\n",
    "                cursor.execute(sql)\n",
    "                result = cursor.fetchone()\n",
    "                if cursor.fetchone() != None:\n",
    "                    raise Exception('Error, must be a unique result')\n",
    "                \n",
    "        finally:\n",
    "            self.connection.close()\n",
    "        return result\n",
    "    \n",
    "    \n",
    "    def find_node_type(self, node_id):\n",
    "        sql = f'SELECT * FROM {self.nodes} where id = {node_id}'\n",
    "        return self.execute_sql_query_unique(sql)['node_type']\n",
    "    \n",
    "    \n",
    "    def find_by_params(self,\n",
    "                      source=None,\n",
    "                      e_type=None,\n",
    "                      target=None,\n",
    "                      time=None,\n",
    "                      weight=None,\n",
    "                      source_location=None,\n",
    "                      target_location=None,\n",
    "                      source_latitude=None,\n",
    "                      source_longitude=None,\n",
    "                      target_latitude=None,\n",
    "                      target_longitude=None):\n",
    "        sql = f'SELECT * FROM {self.links}'\n",
    "        conditions = []\n",
    "        \n",
    "        if source != None:\n",
    "            conditions.append(f'source = {source}')\n",
    "        if e_type != None:\n",
    "            conditions.append(f'e_type = {e_type}')\n",
    "        if target != None:\n",
    "            conditions.append(f'target = {target}')\n",
    "        if time != None:\n",
    "            conditions.append(f'time = {time}')\n",
    "        if weight != None:\n",
    "            conditions.append(f'weight = {weight}')\n",
    "        if source_location != None:\n",
    "            conditions.append(f'source_location = {source_location}')\n",
    "        if target_location != None:\n",
    "            conditions.append(f'target_location = {target_location}')\n",
    "        if source_latitude != None:\n",
    "            conditions.append(f'source_latitude = {source_latitude}')\n",
    "        if source_longitude != None:\n",
    "            conditions.append(f'source_longitude = {source_longitude}')\n",
    "        if target_latitude != None:\n",
    "            conditions.append(f'target_latitude = {target_latitude}')\n",
    "        if target_longitude != None:\n",
    "            conditions.append(f'target = {target_longitude}')\n",
    "        \n",
    "        if len(conditions) > 0:\n",
    "            sql += f' WHERE {\" AND \".join(conditions)}'\n",
    "\n",
    "        return pd.DataFrame(self.execute_sql_query(sql))"
   ]
  },
  {
   "cell_type": "code",
   "execution_count": 5,
   "metadata": {},
   "outputs": [],
   "source": [
    "class GraphCsv(Graph):\n",
    "    def __init__(self, nodes_file_name, links_file_name):\n",
    "        self.nodes = pd.read_csv(nodes_file_name ,sep=',')\n",
    "        self.links = pd.read_csv(links_file_name, sep=',')\n",
    "        super().__init__()\n",
    "    \n",
    "    \n",
    "    def find_node_type(self, node_id):\n",
    "        return self.nodes[(self.nodes.id == node_id)].iloc[0]['node_type']\n",
    "    \n",
    "    \n",
    "    def find_by_params(self,\n",
    "                      source=None,\n",
    "                      e_type=None,\n",
    "                      target=None,\n",
    "                      time=None,\n",
    "                      weight=None,\n",
    "                      source_location=None,\n",
    "                      target_location=None,\n",
    "                      source_latitude=None,\n",
    "                      source_longitude=None,\n",
    "                      target_latitude=None,\n",
    "                      target_longitude=None):\n",
    "        partial_filter = pd.DataFrame(self.links)\n",
    "        if source != None:\n",
    "            partial_filter = partial_filter[(partial_filter.source == source)]\n",
    "        if e_type != None:\n",
    "            partial_filter = partial_filter[(partial_filter.e_type == e_type)]\n",
    "        if target != None:\n",
    "            partial_filter = partial_filter[(partial_filter.target == target)]\n",
    "        if time != None:\n",
    "            partial_filter = partial_filter[(partial_filter.time == time)]\n",
    "        if weight != None:\n",
    "            partial_filter = partial_filter[(partial_filter.weight == weight)]\n",
    "        if source_location != None:\n",
    "            partial_filter = partial_filter[(partial_filter.source_location == source_location)]\n",
    "        if target_location != None:\n",
    "            partial_filter = partial_filter[(partial_filter.target_location == target_location)]\n",
    "        if source_latitude != None:\n",
    "            partial_filter = partial_filter[(partial_filter.source_latitude == source_latitude)]\n",
    "        if source_longitude != None:\n",
    "            partial_filter = partial_filter[(partial_filter.source_longitude == source_longitude)]\n",
    "        if target_latitude != None:\n",
    "            partial_filter = partial_filter[(partial_filter.target_latitude == target_latitude)]\n",
    "        if target_longitude != None:\n",
    "            partial_filter = partial_filter[(partial_filter.target_longitude == target_longitude)]\n",
    "            \n",
    "        return partial_filter"
   ]
  },
  {
   "cell_type": "code",
   "execution_count": 6,
   "metadata": {},
   "outputs": [],
   "source": [
    "class FinancialProfile:\n",
    "    def __init__(self, financial_categories, financial_values, node_id):\n",
    "        self.node_id = node_id\n",
    "        self.financial_vector = []\n",
    "        \n",
    "        # Each position in the vector represents a financial category, if the value is not present then fill with 0.\n",
    "        # The values in every position represents the same financial attribute for every FinancialProfile. \n",
    "        for key in sorted(financial_categories.keys()):\n",
    "            if key in financial_values.keys():\n",
    "                self.financial_vector.append(float(financial_values[key]))\n",
    "            else:\n",
    "                self.financial_vector.append(0.0)\n",
    "    \n",
    "    \n",
    "    def cosine_simalarity(self, another_profile):\n",
    "        return (1 - spatial.distance.cosine(self.financial_vector, another_profile.financial_vector))"
   ]
  },
  {
   "cell_type": "code",
   "execution_count": 7,
   "metadata": {},
   "outputs": [],
   "source": [
    "template_graph = GraphCsv('./template_nodes.csv', './template_links.csv')\n",
    "seed_1 = {'source': 600971, 'e_type': 4, 'target': 579269, 'time': -685755382, 'weight': 0.166667, 'source_location': 0, 'target_location': 0, 'source_latitude': 0, 'source_longitude': 0, 'target_latitude': 0, 'target_longitude': 0}\n",
    "seed_2 = {'source': 538771, 'e_type': 4, 'target': 473043, 'time': -623491200, 'weight': 0.0909091, 'source_location': 0, 'target_location': 0, 'source_latitude': 0, 'source_longitude': 0, 'target_latitude': 0, 'target_longitude': 0}\n",
    "seed_3 = {'source': 574136, 'e_type': 2, 'target': 657187, 'time': 1991785, 'weight': 633, 'source_location': 0, 'target_location': 0, 'source_latitude': 0, 'source_longitude': 0, 'target_latitude': 0, 'target_longitude': 0}"
   ]
  },
  {
   "cell_type": "code",
   "execution_count": 8,
   "metadata": {},
   "outputs": [],
   "source": [
    "mysql_config = {'hostname': 'localhost', 'user': 'root', 'password': 'root', 'schema': 'vast', 'port': 52000}\n",
    "large_graph = GraphMysql(mysql_config)"
   ]
  },
  {
   "cell_type": "code",
   "execution_count": 9,
   "metadata": {},
   "outputs": [
    {
     "data": {
      "text/plain": [
       "{'source': 600971,\n",
       " 'e_type': 4,\n",
       " 'target': 579269,\n",
       " 'time': -685755382,\n",
       " 'weight': 0.166667,\n",
       " 'source_location': 0,\n",
       " 'target_location': 0,\n",
       " 'source_latitude': 0,\n",
       " 'source_longitude': 0,\n",
       " 'target_latitude': 0,\n",
       " 'target_longitude': 0}"
      ]
     },
     "execution_count": 9,
     "metadata": {},
     "output_type": "execute_result"
    }
   ],
   "source": [
    "seed_1"
   ]
  },
  {
   "cell_type": "code",
   "execution_count": 33,
   "metadata": {},
   "outputs": [
    {
     "data": {
      "text/plain": [
       "'Person'"
      ]
     },
     "execution_count": 33,
     "metadata": {},
     "output_type": "execute_result"
    }
   ],
   "source": [
    "template_graph.node_type_description(template_graph.find_node_type(0))"
   ]
  },
  {
   "cell_type": "code",
   "execution_count": 34,
   "metadata": {},
   "outputs": [
    {
     "data": {
      "text/plain": [
       "'Person'"
      ]
     },
     "execution_count": 34,
     "metadata": {},
     "output_type": "execute_result"
    }
   ],
   "source": [
    "large_graph.node_type_description(large_graph.find_node_type(600971))"
   ]
  },
  {
   "cell_type": "raw",
   "metadata": {},
   "source": [
    "parto del seed\n",
    "calculo su similaridad coseno con el unico documento en el template\n",
    "me traigo los vecinos del seed como source en el grafo grande con e_type = 0 o e_type = 1\n",
    "me traigo los vecinos del correspondiente al seed como source en el grafo template con e_type = 0 o e_type = 1\n",
    "hay algo en el template? me quedo con los \"mas parecedos\"\n",
    "me traigo los vecinos del seed como target en el grafo grande con e_type = 0 o e_type = 1\n",
    "me traigo los vecinos del correspondiente al seed como target en el grafo template con e_type = 0 o e_type = 1\n",
    "hay algo en el template? me quedo con los \"mas parecidos\"\n"
   ]
  },
  {
   "cell_type": "code",
   "execution_count": 13,
   "metadata": {},
   "outputs": [],
   "source": [
    "dict_financial = large_graph.build_financial_dict(600971)"
   ]
  },
  {
   "cell_type": "code",
   "execution_count": 14,
   "metadata": {},
   "outputs": [],
   "source": [
    "profile = FinancialProfile(large_graph.all_financial_types(), dict_financial, 600971)"
   ]
  },
  {
   "cell_type": "code",
   "execution_count": 15,
   "metadata": {},
   "outputs": [],
   "source": [
    "template_profile = FinancialProfile(template_graph.all_financial_types(), template_graph.build_financial_dict(0), 0)"
   ]
  },
  {
   "cell_type": "code",
   "execution_count": 16,
   "metadata": {},
   "outputs": [
    {
     "data": {
      "text/plain": [
       "0.9521792416337577"
      ]
     },
     "execution_count": 16,
     "metadata": {},
     "output_type": "execute_result"
    }
   ],
   "source": [
    "profile.cosine_simalarity(template_profile)"
   ]
  },
  {
   "cell_type": "code",
   "execution_count": 60,
   "metadata": {},
   "outputs": [],
   "source": [
    "def most_similar(graph_template, graph, template_node_id, seed_node_id, e_type, side='source'):\n",
    "    if 'source' == side:\n",
    "        neighbors = graph.find_by_params(source=seed_node_id, e_type=e_type)['target'].unique()\n",
    "        neighbors_template = graph_template.find_by_params(source=template_node_id, e_type=e_type)['target'].unique()\n",
    "    elif 'target' == side:\n",
    "        neighbors = graph.find_by_params(target=seed_node_id, e_type=e_type)['source'].unique()\n",
    "        neighbors_template = graph_template.find_by_params(target=template_node_id, e_type=e_type)['source'].unique()\n",
    "    \n",
    "    if len(neighbors_template) == 0:\n",
    "        return None\n",
    "    \n",
    "    # This map has all the financial profiles of the large graph\n",
    "    profiles_by_node = {}\n",
    "    for a_node in neighbors:\n",
    "        profiles_by_node[a_node] = FinancialProfile(graph.all_financial_types(), graph.build_financial_dict(a_node), a_node)\n",
    "    \n",
    "    # This map has the best matching node for each node in the template\n",
    "    matching_nodes = {}\n",
    "    for a_node in neighbors_template:\n",
    "        template_profile = FinancialProfile(graph_template.all_financial_types(), graph_template.build_financial_dict(a_node), a_node)\n",
    "        sim = -1\n",
    "        most_like = -1\n",
    "        for k, v in profiles_by_node.items():\n",
    "            # if the node k is in the matching_nodes skip it.\n",
    "            if k in matching_nodes.values():\n",
    "                continue\n",
    "            new_sim = template_profile.cosine_simalarity(v)\n",
    "            if new_sim > sim:\n",
    "                sim = new_sim\n",
    "                most_like = k\n",
    "        matching_nodes[a_node] = most_like\n",
    "        \n",
    "    return matching_nodes\n",
    "    "
   ]
  },
  {
   "cell_type": "code",
   "execution_count": 21,
   "metadata": {},
   "outputs": [],
   "source": [
    "large_node_id = 600971\n",
    "template_node_id = 0"
   ]
  },
  {
   "cell_type": "code",
   "execution_count": 22,
   "metadata": {},
   "outputs": [],
   "source": [
    "mirror_nodes = {}"
   ]
  },
  {
   "cell_type": "code",
   "execution_count": 43,
   "metadata": {},
   "outputs": [],
   "source": [
    "mirror_nodes[large_node_id] = template_node_id"
   ]
  },
  {
   "cell_type": "code",
   "execution_count": 44,
   "metadata": {},
   "outputs": [],
   "source": [
    "e_type = 0"
   ]
  },
  {
   "cell_type": "code",
   "execution_count": 65,
   "metadata": {},
   "outputs": [
    {
     "data": {
      "text/plain": [
       "{40: 595737, 41: 644620, 65: 621178}"
      ]
     },
     "execution_count": 65,
     "metadata": {},
     "output_type": "execute_result"
    }
   ],
   "source": [
    "most_similar(template_graph, large_graph, mirror_nodes[large_node_id], large_node_id, 0, side='target')"
   ]
  },
  {
   "cell_type": "code",
   "execution_count": 67,
   "metadata": {},
   "outputs": [
    {
     "data": {
      "text/plain": [
       "{41: 473963, 65: 488050, 40: 511468}"
      ]
     },
     "execution_count": 67,
     "metadata": {},
     "output_type": "execute_result"
    }
   ],
   "source": [
    "most_similar(template_graph, large_graph, mirror_nodes[large_node_id], large_node_id, 1, side='target')"
   ]
  },
  {
   "cell_type": "code",
   "execution_count": null,
   "metadata": {},
   "outputs": [],
   "source": []
  }
 ],
 "metadata": {
  "kernelspec": {
   "display_name": "Python 3",
   "language": "python",
   "name": "python3"
  },
  "language_info": {
   "codemirror_mode": {
    "name": "ipython",
    "version": 3
   },
   "file_extension": ".py",
   "mimetype": "text/x-python",
   "name": "python",
   "nbconvert_exporter": "python",
   "pygments_lexer": "ipython3",
   "version": "3.8.3"
  }
 },
 "nbformat": 4,
 "nbformat_minor": 4
}
