{
 "cells": [
  {
   "cell_type": "code",
   "execution_count": 51,
   "metadata": {},
   "outputs": [],
   "source": [
    "from time import time\n",
    "import pandas as pd\n",
    "import os\n",
    "import sys\n",
    "sys.path.insert(0, os.path.abspath('../graphs'))\n",
    "\n",
    "\n",
    "from graphs import MatchingGraph, GraphCsv, GraphMysql"
   ]
  },
  {
   "cell_type": "code",
   "execution_count": 2,
   "metadata": {},
   "outputs": [],
   "source": [
    "seed_1 = {'source': 600971, 'e_type': 4, 'target': 579269, 'time': -685755382, 'weight': 0.166667, 'source_location': 0, 'target_location': 0, 'source_latitude': 0, 'source_longitude': 0, 'target_latitude': 0, 'target_longitude': 0}\n",
    "seed_2 = {'source': 538771, 'e_type': 4, 'target': 473043, 'time': -623491200, 'weight': 0.0909091, 'source_location': 0, 'target_location': 0, 'source_latitude': 0, 'source_longitude': 0, 'target_latitude': 0, 'target_longitude': 0}\n",
    "seed_3 = {'source': 574136, 'e_type': 2, 'target': 657187, 'time': 1991785, 'weight': 633, 'source_location': 0, 'target_location': 0, 'source_latitude': 0, 'source_longitude': 0, 'target_latitude': 0, 'target_longitude': 0}\n",
    "mysql_config = {'hostname': 'localhost', 'user': 'root', 'password': 'root', 'schema': 'vast', 'port': 52000}\n",
    "large_graph = GraphMysql(mysql_config)\n",
    "template_graph = GraphCsv('./template_nodes.csv', './template_links.csv')\n",
    "matching_graph = MatchingGraph(large_graph, template_graph)"
   ]
  },
  {
   "cell_type": "code",
   "execution_count": 3,
   "metadata": {
    "tags": [],
    "pycharm": {
     "name": "#%%\n"
    }
   },
   "outputs": [
    {
     "name": "stdout",
     "output_type": "stream",
     "text": [
      "{'source': 600971, 'e_type': 4, 'target': 579269, 'time': -685755382, 'weight': 0.166667, 'source_location': 0, 'target_location': 0, 'source_latitude': 0, 'source_longitude': 0, 'target_latitude': 0, 'target_longitude': 0}\n",
      "{'source': 538771, 'e_type': 4, 'target': 473043, 'time': -623491200, 'weight': 0.0909091, 'source_location': 0, 'target_location': 0, 'source_latitude': 0, 'source_longitude': 0, 'target_latitude': 0, 'target_longitude': 0}\n",
      "{'source': 574136, 'e_type': 2, 'target': 657187, 'time': 1991785, 'weight': 633, 'source_location': 0, 'target_location': 0, 'source_latitude': 0, 'source_longitude': 0, 'target_latitude': 0, 'target_longitude': 0}\n"
     ]
    }
   ],
   "source": [
    "print(seed_1)\n",
    "print(seed_2)\n",
    "print(seed_3)\n",
    "hub_nodes = [39, 40, 41]"
   ]
  },
  {
   "cell_type": "code",
   "execution_count": 5,
   "outputs": [
    {
     "name": "stdout",
     "output_type": "stream",
     "text": [
      "Finding similarity in communications\n",
      "Calculando similares de (original) 600971 y (template) 0\n",
      "Empty links\n",
      "calculate_similar_nodes\n",
      "Similares como source: {}\n",
      "calculate_similar_nodes\n",
      "Similares como target: {40: (457543, 1.8522534708937524), 41: (611974, 1.9111347439532855), 65: (488050, 0.9633098420365317)}\n",
      "Calculando similares de (original) 488050 y (template) 65\n",
      "calculate_similar_nodes\n",
      "Similares como source: {39: (606702, 1.707829650287816)}\n",
      "calculate_similar_nodes\n",
      "Similares como target: {}\n",
      "Calculando similares de (original) 606702 y (template) 39\n",
      "calculate_similar_nodes\n",
      "Similares como source: {66: (523763, 0), 47: (620279, 0.9609062949481668), 67: (528228, 0)}\n",
      "calculate_similar_nodes\n",
      "Similares como target: {67: (645586, 0), 47: (458232, 0.9696471935351735)}\n",
      "Calculando similares de (original) 523763 y (template) 66\n",
      "Empty links\n",
      "calculate_similar_nodes\n",
      "Similares como source: {}\n",
      "calculate_similar_nodes\n",
      "Similares como target: {}\n",
      "Calculando similares de (original) 458232 y (template) 47\n",
      "calculate_similar_nodes\n",
      "Similares como source: {27: (533094, 0.9895955448789269), 57: (491440, 0.9482474935652739), 45: (543562, 0.9867262647388596), 58: (652117, 0.9677028893605836), 56: (564568, 0.9749697718233258), 63: (541601, 0.9966601218368472), 43: (494819, 0.9842452838998306)}\n",
      "calculate_similar_nodes\n",
      "Similares como target: {56: (610377, 0.975134071381891), 27: (594694, 0.988403941674437), 63: (494554, 0.9917573421197112), 58: (616860, 0.9675581756023379), 37: (564599, 0.988583010440201), 45: (594766, 0.9996656314168515), 43: (481924, 0.9777196093566796)}\n",
      "Calculando similares de (original) 564599 y (template) 37\n",
      "calculate_similar_nodes\n",
      "Similares como source: {34: (543412, 0.965817831469075)}\n",
      "calculate_similar_nodes\n",
      "Similares como target: {34: (598958, 0.9702239804093192)}\n",
      "Calculando similares de (original) 598958 y (template) 34\n",
      "calculate_similar_nodes\n",
      "Similares como source: {}\n",
      "calculate_similar_nodes\n",
      "Similares como target: {}\n",
      "Calculando similares de (original) 491440 y (template) 57\n",
      "calculate_similar_nodes\n",
      "Similares como source: {}\n",
      "calculate_similar_nodes\n",
      "Similares como target: {}\n",
      "Calculando similares de (original) 541601 y (template) 63\n",
      "calculate_similar_nodes\n",
      "Similares como source: {}\n",
      "calculate_similar_nodes\n",
      "Similares como target: {}\n",
      "Calculando similares de (original) 533094 y (template) 27\n",
      "calculate_similar_nodes\n",
      "Similares como source: {}\n",
      "calculate_similar_nodes\n",
      "Similares como target: {}\n",
      "Calculando similares de (original) 652117 y (template) 58\n",
      "calculate_similar_nodes\n",
      "Similares como source: {}\n",
      "calculate_similar_nodes\n",
      "Similares como target: {}\n",
      "Calculando similares de (original) 610377 y (template) 56\n",
      "calculate_similar_nodes\n",
      "Similares como source: {}\n",
      "calculate_similar_nodes\n",
      "Similares como target: {}\n",
      "Calculando similares de (original) 594766 y (template) 45\n",
      "calculate_similar_nodes\n",
      "Similares como source: {}\n",
      "calculate_similar_nodes\n",
      "Similares como target: {}\n",
      "Calculando similares de (original) 494819 y (template) 43\n",
      "calculate_similar_nodes\n",
      "Similares como source: {}\n",
      "calculate_similar_nodes\n",
      "Similares como target: {}\n",
      "Calculando similares de (original) 645586 y (template) 67\n",
      "calculate_similar_nodes\n",
      "Similares como source: {}\n",
      "calculate_similar_nodes\n",
      "Similares como target: {}\n",
      "Calculando similares de (original) 611974 y (template) 41\n",
      "calculate_similar_nodes\n",
      "Similares como source: {}\n",
      "calculate_similar_nodes\n",
      "Similares como target: {}\n",
      "Calculando similares de (original) 457543 y (template) 40\n",
      "calculate_similar_nodes\n",
      "Similares como source: {}\n",
      "calculate_similar_nodes\n",
      "Similares como target: {}\n",
      "Finding similarity in travels\n",
      "Hub {39: 606702} ...\n",
      "calculate_similar_nodes\n",
      "Similares: {74: (634234, 1.0), 75: (477668, 1.0), 73: (636858, 1.0), 87: (510261, 1.0), 85: (506949, 1.0), 86: (487516, 0.9855274566525745)}\n",
      "calculate_similar_nodes\n",
      "Similares: {80: (625689, 1.0), 77: (494508, 1.0), 79: (629627, 1.0), 78: (599441, 1.0)}\n",
      "calculate_similar_nodes\n",
      "Similares: {82: (533956, 1.0), 83: (584896, 1.0), 84: (463206, 1.0)}\n",
      "calculate_similar_nodes\n",
      "Similares: {}\n",
      "Hub {40: 457543} ...\n",
      "calculate_similar_nodes\n",
      "Similares: {}\n",
      "calculate_similar_nodes\n",
      "Similares: {}\n",
      "calculate_similar_nodes\n",
      "Similares: {}\n",
      "calculate_similar_nodes\n",
      "Similares: {}\n",
      "Hub {41: 611974} ...\n",
      "calculate_similar_nodes\n",
      "Similares: {}\n",
      "calculate_similar_nodes\n",
      "Similares: {}\n",
      "calculate_similar_nodes\n",
      "Similares: {}\n",
      "{0: 600971, 40: 457543, 41: 611974, 65: 488050, 39: 606702, 67: 645586, 47: 458232, 66: 523763, 43: 494819, 45: 594766, 56: 610377, 58: 652117, 27: 533094, 63: 541601, 57: 491440, 37: 564599, 34: 598958, 74: 634234, 75: 477668, 73: 636858, 87: 510261, 85: 506949, 86: 487516, 80: 625689, 77: 494508, 79: 629627, 78: 599441, 82: 533956, 83: 584896, 84: 463206}\n",
      "3358.985622882843\n"
     ]
    }
   ],
   "source": [
    "t0 = time()\n",
    "mirror_nodes_seed1 = matching_graph.walk_graph(600971, 0, hub_nodes)\n",
    "print(mirror_nodes_seed1)\n",
    "print(time() - t0)"
   ],
   "metadata": {
    "collapsed": false,
    "pycharm": {
     "name": "#%%\n"
    }
   }
  },
  {
   "cell_type": "code",
   "execution_count": 4,
   "outputs": [
    {
     "name": "stdout",
     "output_type": "stream",
     "text": [
      "Finding similarity in communications\n",
      "Calculando similares de (original) 538771 y (template) 0\n",
      "Empty links\n",
      "Empty links\n",
      "calculate_similar_nodes\n",
      "Similares como source: {}\n",
      "Empty links\n",
      "calculate_similar_nodes\n",
      "Similares como target: {40: (-1, -1), 41: (-1, -1), 65: (-1, -1)}\n",
      "Calculando similares de (original) -1 y (template) 65\n",
      "Empty links\n",
      "calculate_similar_nodes\n",
      "Similares como source: {39: (-1, -1)}\n",
      "Empty links\n",
      "calculate_similar_nodes\n",
      "Similares como target: {}\n",
      "Calculando similares de (original) -1 y (template) 39\n",
      "Empty links\n",
      "calculate_similar_nodes\n",
      "Similares como source: {66: (-1, -1), 47: (-1, -1), 67: (-1, -1)}\n",
      "Empty links\n",
      "calculate_similar_nodes\n",
      "Similares como target: {67: (-1, -1), 47: (-1, -1)}\n",
      "Calculando similares de (original) -1 y (template) 66\n",
      "Empty links\n",
      "Empty links\n",
      "calculate_similar_nodes\n",
      "Similares como source: {}\n",
      "Empty links\n",
      "calculate_similar_nodes\n",
      "Similares como target: {}\n",
      "Calculando similares de (original) -1 y (template) 47\n",
      "Empty links\n",
      "calculate_similar_nodes\n",
      "Similares como source: {27: (-1, -1), 57: (-1, -1), 45: (-1, -1), 58: (-1, -1), 56: (-1, -1), 63: (-1, -1), 43: (-1, -1)}\n",
      "Empty links\n",
      "calculate_similar_nodes\n",
      "Similares como target: {56: (-1, -1), 27: (-1, -1), 63: (-1, -1), 58: (-1, -1), 37: (-1, -1), 45: (-1, -1), 43: (-1, -1)}\n",
      "Calculando similares de (original) -1 y (template) 37\n",
      "Empty links\n",
      "calculate_similar_nodes\n",
      "Similares como source: {34: (-1, -1)}\n",
      "Empty links\n",
      "calculate_similar_nodes\n",
      "Similares como target: {34: (-1, -1)}\n",
      "Calculando similares de (original) -1 y (template) 34\n",
      "Empty links\n",
      "calculate_similar_nodes\n",
      "Similares como source: {}\n",
      "Empty links\n",
      "calculate_similar_nodes\n",
      "Similares como target: {}\n",
      "Calculando similares de (original) -1 y (template) 57\n",
      "Empty links\n",
      "calculate_similar_nodes\n",
      "Similares como source: {}\n",
      "Empty links\n",
      "calculate_similar_nodes\n",
      "Similares como target: {}\n",
      "Calculando similares de (original) -1 y (template) 63\n",
      "Empty links\n",
      "calculate_similar_nodes\n",
      "Similares como source: {}\n",
      "Empty links\n",
      "calculate_similar_nodes\n",
      "Similares como target: {}\n",
      "Calculando similares de (original) -1 y (template) 27\n",
      "Empty links\n",
      "calculate_similar_nodes\n",
      "Similares como source: {}\n",
      "Empty links\n",
      "calculate_similar_nodes\n",
      "Similares como target: {}\n",
      "Calculando similares de (original) -1 y (template) 58\n",
      "Empty links\n",
      "calculate_similar_nodes\n",
      "Similares como source: {}\n",
      "Empty links\n",
      "calculate_similar_nodes\n",
      "Similares como target: {}\n",
      "Calculando similares de (original) -1 y (template) 56\n",
      "Empty links\n",
      "calculate_similar_nodes\n",
      "Similares como source: {}\n",
      "Empty links\n",
      "calculate_similar_nodes\n",
      "Similares como target: {}\n",
      "Calculando similares de (original) -1 y (template) 45\n",
      "Empty links\n",
      "calculate_similar_nodes\n",
      "Similares como source: {}\n",
      "Empty links\n",
      "calculate_similar_nodes\n",
      "Similares como target: {}\n",
      "Calculando similares de (original) -1 y (template) 43\n",
      "Empty links\n",
      "calculate_similar_nodes\n",
      "Similares como source: {}\n",
      "Empty links\n",
      "calculate_similar_nodes\n",
      "Similares como target: {}\n",
      "Calculando similares de (original) -1 y (template) 67\n",
      "Empty links\n",
      "calculate_similar_nodes\n",
      "Similares como source: {}\n",
      "Empty links\n",
      "calculate_similar_nodes\n",
      "Similares como target: {}\n",
      "Calculando similares de (original) -1 y (template) 41\n",
      "Empty links\n",
      "calculate_similar_nodes\n",
      "Similares como source: {}\n",
      "Empty links\n",
      "calculate_similar_nodes\n",
      "Similares como target: {}\n",
      "Calculando similares de (original) -1 y (template) 40\n",
      "Empty links\n",
      "calculate_similar_nodes\n",
      "Similares como source: {}\n",
      "Empty links\n",
      "calculate_similar_nodes\n",
      "Similares como target: {}\n",
      "Finding similarity in travels\n",
      "Hub {39: -1} ...\n",
      "Hub {40: -1} ...\n",
      "Hub {41: -1} ...\n",
      "{0: 538771, 40: -1, 41: -1, 65: -1, 39: -1, 67: -1, 47: -1, 66: -1, 43: -1, 45: -1, 56: -1, 58: -1, 27: -1, 63: -1, 57: -1, 37: -1, 34: -1}\n",
      "0.3254814147949219\n"
     ]
    }
   ],
   "source": [
    "t0 = time()\n",
    "mirror_nodes_seed2 = matching_graph.walk_graph(538771, 0, hub_nodes)\n",
    "print(mirror_nodes_seed2)\n",
    "print(time() - t0)"
   ],
   "metadata": {
    "collapsed": false,
    "pycharm": {
     "name": "#%%\n"
    }
   }
  },
  {
   "cell_type": "code",
   "execution_count": 6,
   "outputs": [
    {
     "name": "stdout",
     "output_type": "stream",
     "text": [
      "Finding similarity in communications\n",
      "Calculando similares de (original) 574136 y (template) 67\n",
      "calculate_similar_nodes\n",
      "Similares como source: {39: (499382, 1.7569431858897164), 47: (490458, 0.9538832494921798)}\n",
      "calculate_similar_nodes\n",
      "Similares como target: {39: (461437, 1.7576196705323368), 47: (470528, 0.967653311613888)}\n",
      "Calculando similares de (original) 470528 y (template) 47\n",
      "calculate_similar_nodes\n",
      "Similares como source: {27: (551765, 0.9887216630457052), 57: (585654, 0.923416793221785), 45: (614439, 0.98861402971856), 58: (552044, 0.9690908723821873), 56: (471475, 0.9739561021535967), 63: (617353, 0.9952599218476157), 41: (649553, 1.910174446367406), 43: (527537, 0.9839375750544733)}\n",
      "calculate_similar_nodes\n",
      "Similares como target: {56: (482097, 0.9735206614133969), 27: (488367, 0.9870285837275422), 41: (611974, 1.9111347439532855), 63: (474512, 0.9948134614880384), 58: (604641, 0.9652228047581526), 37: (648109, 0.9884006433749246), 45: (594154, 0.9860009108216452), 43: (565605, 0.9791529279638806)}\n",
      "Calculando similares de (original) 648109 y (template) 37\n",
      "calculate_similar_nodes\n",
      "Similares como source: {34: (577695, 0.9767451573039619)}\n",
      "calculate_similar_nodes\n",
      "Similares como target: {34: (522487, 0.9847372979892384)}\n",
      "Calculando similares de (original) 522487 y (template) 34\n",
      "calculate_similar_nodes\n",
      "Similares como source: {}\n",
      "calculate_similar_nodes\n",
      "Similares como target: {}\n",
      "Calculando similares de (original) 585654 y (template) 57\n",
      "calculate_similar_nodes\n",
      "Similares como source: {}\n",
      "calculate_similar_nodes\n",
      "Similares como target: {}\n",
      "Calculando similares de (original) 617353 y (template) 63\n",
      "calculate_similar_nodes\n",
      "Similares como source: {}\n",
      "calculate_similar_nodes\n",
      "Similares como target: {}\n",
      "Calculando similares de (original) 551765 y (template) 27\n",
      "calculate_similar_nodes\n",
      "Similares como source: {}\n",
      "calculate_similar_nodes\n",
      "Similares como target: {}\n",
      "Calculando similares de (original) 552044 y (template) 58\n",
      "calculate_similar_nodes\n",
      "Similares como source: {}\n",
      "calculate_similar_nodes\n",
      "Similares como target: {}\n",
      "Calculando similares de (original) 471475 y (template) 56\n",
      "calculate_similar_nodes\n",
      "Similares como source: {}\n",
      "calculate_similar_nodes\n",
      "Similares como target: {}\n",
      "Calculando similares de (original) 614439 y (template) 45\n",
      "calculate_similar_nodes\n",
      "Similares como source: {}\n",
      "calculate_similar_nodes\n",
      "Similares como target: {}\n",
      "Calculando similares de (original) 527537 y (template) 43\n",
      "calculate_similar_nodes\n",
      "Similares como source: {}\n",
      "calculate_similar_nodes\n",
      "Similares como target: {}\n",
      "Calculando similares de (original) 611974 y (template) 41\n",
      "calculate_similar_nodes\n",
      "Similares como source: {0: (506586, 0.9875502789434917), 65: (593045, 0.9624148028683428), 40: (482596, 1.8702142427789852)}\n",
      "calculate_similar_nodes\n",
      "Similares como target: {65: (593045, 0.9624148028683428), 40: (474191, 1.8407316356892618)}\n",
      "Calculando similares de (original) 506586 y (template) 0\n",
      "Empty links\n",
      "calculate_similar_nodes\n",
      "Similares como source: {}\n",
      "calculate_similar_nodes\n",
      "Similares como target: {}\n",
      "Calculando similares de (original) 593045 y (template) 65\n",
      "calculate_similar_nodes\n",
      "Similares como source: {}\n",
      "calculate_similar_nodes\n",
      "Similares como target: {}\n",
      "Calculando similares de (original) 482596 y (template) 40\n",
      "calculate_similar_nodes\n",
      "Similares como source: {}\n",
      "calculate_similar_nodes\n",
      "Similares como target: {}\n",
      "Calculando similares de (original) 461437 y (template) 39\n",
      "calculate_similar_nodes\n",
      "Similares como source: {66: (533691, 0)}\n",
      "calculate_similar_nodes\n",
      "Similares como target: {}\n",
      "Calculando similares de (original) 533691 y (template) 66\n",
      "Empty links\n",
      "calculate_similar_nodes\n",
      "Similares como source: {}\n",
      "calculate_similar_nodes\n",
      "Similares como target: {}\n",
      "Finding similarity in travels\n",
      "Hub {39: 461437} ...\n",
      "calculate_similar_nodes\n",
      "Similares: {80: (625689, 1.0), 77: (494508, 1.0), 79: (629627, 1.0), 78: (599441, 1.0), 73: (470622, 1.0), 75: (634234, 1.0), 74: (477668, 1.0), 86: (583014, 1.0), 87: (510261, 1.0), 85: (471904, 1.0)}\n",
      "calculate_similar_nodes\n",
      "Similares: {82: (533956, 1.0), 83: (584896, 1.0), 84: (463206, 1.0)}\n",
      "calculate_similar_nodes\n",
      "Similares: {}\n",
      "Hub {40: 482596} ...\n",
      "calculate_similar_nodes\n",
      "Similares: {}\n",
      "calculate_similar_nodes\n",
      "Similares: {}\n",
      "calculate_similar_nodes\n",
      "Similares: {}\n",
      "calculate_similar_nodes\n",
      "Similares: {}\n",
      "Hub {41: 611974} ...\n",
      "calculate_similar_nodes\n",
      "Similares: {}\n",
      "calculate_similar_nodes\n",
      "Similares: {}\n",
      "calculate_similar_nodes\n",
      "Similares: {}\n",
      "{67: 574136, 39: 461437, 47: 470528, 41: 611974, 43: 527537, 45: 614439, 56: 471475, 58: 552044, 27: 551765, 63: 617353, 57: 585654, 37: 648109, 34: 522487, 40: 482596, 65: 593045, 0: 506586, 66: 533691, 80: 625689, 77: 494508, 79: 629627, 78: 599441, 73: 470622, 75: 634234, 74: 477668, 86: 583014, 87: 510261, 85: 471904, 82: 533956, 83: 584896, 84: 463206}\n",
      "2444.024720430374\n"
     ]
    }
   ],
   "source": [
    "t0 = time()\n",
    "mirror_nodes_seed3 = matching_graph.walk_graph(574136, 67, hub_nodes)\n",
    "print(mirror_nodes_seed3)\n",
    "print(time() - t0)\n"
   ],
   "metadata": {
    "collapsed": false,
    "pycharm": {
     "name": "#%%\n"
    }
   }
  },
  {
   "cell_type": "code",
   "execution_count": 63,
   "outputs": [],
   "source": [
    "matching_communications_seed_1 = {0: 600971,40: 457543,41: 611974,65: 488050,39: 606702,\n",
    "                                  67: 645586,47: 458232,66: 523763,43: 494819,45: 594766,\n",
    "                                  56: 610377,58: 652117,27: 533094,63: 541601,57: 491440,\n",
    "                                  37: 564599,34: 598958}\n",
    "\n",
    "matching_travels_seed_1 = {74: 634234,75: 477668,73: 636858,87: 510261,85: 506949,\n",
    "                           86: 487516,80: 625689,77: 494508,79: 629627,78: 599441,\n",
    "                           82: 533956,83: 584896,84: 463206,\n",
    "                           40: 457543,41: 611974,39: 606702}\n",
    "matching_values_communications_1 = list(matching_communications_seed_1.values())\n",
    "matching_values_travels_1 = list(matching_travels_seed_1.values())"
   ],
   "metadata": {
    "collapsed": false,
    "pycharm": {
     "name": "#%%\n"
    }
   }
  },
  {
   "cell_type": "code",
   "execution_count": 33,
   "outputs": [],
   "source": [
    "matching_communications_seed_3 = {67: 574136,39: 461437,47: 470528,41: 611974,43: 527537,\n",
    "                                  45: 614439,56: 471475,58: 552044,27: 551765,63: 617353,\n",
    "                                  57: 585654,37: 648109,34: 522487,40: 482596,65: 593045,\n",
    "                                  0: 506586,66: 533691}\n",
    "\n",
    "matching_travels_seed_3 = {80: 625689,77: 494508,79: 629627,78: 599441,73: 470622,\n",
    "                           75: 634234,74: 477668,86: 583014,87: 510261,85: 471904,\n",
    "                           82: 533956,83: 584896,84: 463206,\n",
    "                           39: 461437,40: 482596,41: 611974}\n",
    "matching_values_communications_3 = list(matching_communications_seed_3.values())\n",
    "matching_values_travels_3 = list(matching_travels_seed_3.values())"
   ],
   "metadata": {
    "collapsed": false,
    "pycharm": {
     "name": "#%%\n"
    }
   }
  },
  {
   "cell_type": "code",
   "execution_count": 84,
   "outputs": [],
   "source": [
    "def build_csv_seed_files(graph, communication_nodes, travel_nodes):\n",
    "    links = pd.DataFrame()\n",
    "    # Reconstruyo con las relaciones de comunicaciones y financieras\n",
    "    for a_node in communication_nodes:\n",
    "        sub_select = graph.find_by_params(target=a_node, e_types=[0, 1])\n",
    "        temp_data_frame = sub_select[sub_select['source'].isin(communication_nodes)]\n",
    "        links = links.append(temp_data_frame, ignore_index=True)\n",
    "\n",
    "        sub_select = graph.find_by_params(source=a_node, e_types=[0, 1])\n",
    "        temp_data_frame = sub_select[sub_select['target'].isin(communication_nodes)]\n",
    "        links = links.append(temp_data_frame, ignore_index=True)\n",
    "\n",
    "        sub_select = graph.find_by_params(target=a_node, e_types=[5])\n",
    "        links = links.append(sub_select, ignore_index=True)\n",
    "\n",
    "        sub_select = graph.find_by_params(source=a_node, e_types=[5])\n",
    "        links = links.append(sub_select, ignore_index=True)\n",
    "\n",
    "    for a_node in travel_nodes:\n",
    "        sub_select = graph.find_by_params(source=a_node, e_types=[6])\n",
    "        links = links.append(sub_select, ignore_index=True)\n",
    "\n",
    "    nodes_ids = list(set(links['source']) | set(links['target']))\n",
    "    nodes_types = []\n",
    "    for a_node in nodes_ids:\n",
    "        nodes_types.append(graph.find_node_type(a_node))\n",
    "\n",
    "    nodes = pd.DataFrame({'id': nodes_ids, 'node_type': nodes_types})\n",
    "    return links, nodes"
   ],
   "metadata": {
    "collapsed": false,
    "pycharm": {
     "name": "#%%\n"
    }
   }
  },
  {
   "cell_type": "code",
   "execution_count": 87,
   "outputs": [],
   "source": [
    "links_1, nodes_1 =build_csv_seed_files(large_graph, matching_values_communications_1, matching_values_travels_1)\n",
    "links_3, nodes_3 =build_csv_seed_files(large_graph, matching_values_communications_3, matching_values_travels_3)"
   ],
   "metadata": {
    "collapsed": false,
    "pycharm": {
     "name": "#%%\n"
    }
   }
  },
  {
   "cell_type": "code",
   "execution_count": 99,
   "outputs": [],
   "source": [
    "links_1.columns = ['Source', 'eType', 'Target', 'Time', 'Weight', 'SourceLocation',\n",
    "       'TargetLocation', 'SourceLatitude', 'SourceLongitude', 'TargetLatitude',\n",
    "       'TargetLongitude']\n",
    "nodes_1.columns = ['NodeID', 'NodeType']\n",
    "\n",
    "links_3.columns = ['Source', 'eType', 'Target', 'Time', 'Weight', 'SourceLocation',\n",
    "       'TargetLocation', 'SourceLatitude', 'SourceLongitude', 'TargetLatitude',\n",
    "       'TargetLongitude']\n",
    "nodes_3.columns = ['NodeID', 'NodeType']"
   ],
   "metadata": {
    "collapsed": false,
    "pycharm": {
     "name": "#%%\n"
    }
   }
  },
  {
   "cell_type": "code",
   "execution_count": 100,
   "outputs": [],
   "source": [
    "links_1.to_csv(\"./links_seed_1.csv\", header=True, index=False)\n",
    "nodes_1.to_csv(\"./nodes_seed_1.csv\", header=True, index=False)\n",
    "links_3.to_csv(\"./links_seed_3.csv\", header=True, index=False)\n",
    "nodes_3.to_csv(\"./nodes_seed_3.csv\", header=True, index=False)"
   ],
   "metadata": {
    "collapsed": false,
    "pycharm": {
     "name": "#%%\n"
    }
   }
  },
  {
   "cell_type": "markdown",
   "source": [
    "Agrego las columnas que faltan para el notebook\n",
    "SourceNodeType, TargetNodeType, SourceNodeDescription, TargetNodeDescription, EdgeDescription"
   ],
   "metadata": {
    "collapsed": false,
    "pycharm": {
     "name": "#%% md\n"
    }
   }
  },
  {
   "cell_type": "code",
   "source": [
    "node_types = pd.read_csv('./data/NodeTypeDescriptions.csv')\n",
    "edge_types = pd.read_csv('./data/EdgeTypesDescription.csv')\n",
    "financial_types = pd.read_csv('./data/DemographicCategories.csv')\n",
    "financial_types"
   ],
   "metadata": {
    "collapsed": false,
    "pycharm": {
     "name": "#%%\n"
    }
   },
   "execution_count": 104,
   "outputs": [
    {
     "data": {
      "text/plain": "    NodeID                             Category\n0   459381      Water and other public services\n1   466907                          Electricity\n2   473173                Household furnishings\n3   503218                          Natural gas\n4   503701                        Miscellaneous\n5   510031                                Gifts\n6   520660                           Healthcare\n7   523927                          Restaurants\n8   527449                              Alcohol\n9   536346                     Home maintenance\n10  537281                Housekeeping supplies\n11  552988            Money income before taxes\n12  567195      Personal insurance and pensions\n13  571970                              Reading\n14  575030                       Transportation\n15  577992                            Education\n16  580426                   Telephone services\n17  589943               Lodging away from home\n18  595298                            Groceries\n19  595581                            Donations\n20  606730                        Entertainment\n21  616315                 Apparel and services\n22  620120                       Personal taxes\n23  621924                    Mortgage payments\n24  630626                     Rented dwellings\n25  632961  Personal care products and services\n26  640784                              Tobacco\n27  642329                 Household operations\n28  644226                       Property taxes",
      "text/html": "<div>\n<style scoped>\n    .dataframe tbody tr th:only-of-type {\n        vertical-align: middle;\n    }\n\n    .dataframe tbody tr th {\n        vertical-align: top;\n    }\n\n    .dataframe thead th {\n        text-align: right;\n    }\n</style>\n<table border=\"1\" class=\"dataframe\">\n  <thead>\n    <tr style=\"text-align: right;\">\n      <th></th>\n      <th>NodeID</th>\n      <th>Category</th>\n    </tr>\n  </thead>\n  <tbody>\n    <tr>\n      <th>0</th>\n      <td>459381</td>\n      <td>Water and other public services</td>\n    </tr>\n    <tr>\n      <th>1</th>\n      <td>466907</td>\n      <td>Electricity</td>\n    </tr>\n    <tr>\n      <th>2</th>\n      <td>473173</td>\n      <td>Household furnishings</td>\n    </tr>\n    <tr>\n      <th>3</th>\n      <td>503218</td>\n      <td>Natural gas</td>\n    </tr>\n    <tr>\n      <th>4</th>\n      <td>503701</td>\n      <td>Miscellaneous</td>\n    </tr>\n    <tr>\n      <th>5</th>\n      <td>510031</td>\n      <td>Gifts</td>\n    </tr>\n    <tr>\n      <th>6</th>\n      <td>520660</td>\n      <td>Healthcare</td>\n    </tr>\n    <tr>\n      <th>7</th>\n      <td>523927</td>\n      <td>Restaurants</td>\n    </tr>\n    <tr>\n      <th>8</th>\n      <td>527449</td>\n      <td>Alcohol</td>\n    </tr>\n    <tr>\n      <th>9</th>\n      <td>536346</td>\n      <td>Home maintenance</td>\n    </tr>\n    <tr>\n      <th>10</th>\n      <td>537281</td>\n      <td>Housekeeping supplies</td>\n    </tr>\n    <tr>\n      <th>11</th>\n      <td>552988</td>\n      <td>Money income before taxes</td>\n    </tr>\n    <tr>\n      <th>12</th>\n      <td>567195</td>\n      <td>Personal insurance and pensions</td>\n    </tr>\n    <tr>\n      <th>13</th>\n      <td>571970</td>\n      <td>Reading</td>\n    </tr>\n    <tr>\n      <th>14</th>\n      <td>575030</td>\n      <td>Transportation</td>\n    </tr>\n    <tr>\n      <th>15</th>\n      <td>577992</td>\n      <td>Education</td>\n    </tr>\n    <tr>\n      <th>16</th>\n      <td>580426</td>\n      <td>Telephone services</td>\n    </tr>\n    <tr>\n      <th>17</th>\n      <td>589943</td>\n      <td>Lodging away from home</td>\n    </tr>\n    <tr>\n      <th>18</th>\n      <td>595298</td>\n      <td>Groceries</td>\n    </tr>\n    <tr>\n      <th>19</th>\n      <td>595581</td>\n      <td>Donations</td>\n    </tr>\n    <tr>\n      <th>20</th>\n      <td>606730</td>\n      <td>Entertainment</td>\n    </tr>\n    <tr>\n      <th>21</th>\n      <td>616315</td>\n      <td>Apparel and services</td>\n    </tr>\n    <tr>\n      <th>22</th>\n      <td>620120</td>\n      <td>Personal taxes</td>\n    </tr>\n    <tr>\n      <th>23</th>\n      <td>621924</td>\n      <td>Mortgage payments</td>\n    </tr>\n    <tr>\n      <th>24</th>\n      <td>630626</td>\n      <td>Rented dwellings</td>\n    </tr>\n    <tr>\n      <th>25</th>\n      <td>632961</td>\n      <td>Personal care products and services</td>\n    </tr>\n    <tr>\n      <th>26</th>\n      <td>640784</td>\n      <td>Tobacco</td>\n    </tr>\n    <tr>\n      <th>27</th>\n      <td>642329</td>\n      <td>Household operations</td>\n    </tr>\n    <tr>\n      <th>28</th>\n      <td>644226</td>\n      <td>Property taxes</td>\n    </tr>\n  </tbody>\n</table>\n</div>"
     },
     "execution_count": 104,
     "metadata": {},
     "output_type": "execute_result"
    }
   ]
  },
  {
   "cell_type": "code",
   "execution_count": null,
   "outputs": [],
   "source": [],
   "metadata": {
    "collapsed": false,
    "pycharm": {
     "name": "#%%\n"
    }
   }
  }
 ],
 "metadata": {
  "kernelspec": {
   "display_name": "Python 3",
   "language": "python",
   "name": "python3"
  },
  "language_info": {
   "codemirror_mode": {
    "name": "ipython",
    "version": 3
   },
   "file_extension": ".py",
   "mimetype": "text/x-python",
   "name": "python",
   "nbconvert_exporter": "python",
   "pygments_lexer": "ipython3",
   "version": "3.8.3"
  }
 },
 "nbformat": 4,
 "nbformat_minor": 4
}