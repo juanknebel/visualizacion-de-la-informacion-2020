{
 "cells": [
  {
   "cell_type": "code",
   "execution_count": 7,
   "metadata": {},
   "outputs": [],
   "source": [
    "import pandas as pd\n",
    "from time import time"
   ]
  },
  {
   "cell_type": "code",
   "execution_count": 12,
   "metadata": {},
   "outputs": [],
   "source": [
    "reader_iterator = pd.read_csv('./data/CGCS-GraphData.csv',iterator=True, chunksize=1000)"
   ]
  },
  {
   "cell_type": "code",
   "execution_count": 13,
   "metadata": {},
   "outputs": [
    {
     "name": "stdout",
     "output_type": "stream",
     "text": [
      "0.019618988037109375\n"
     ]
    }
   ],
   "source": [
    "t0 = time()\n",
    "i = 0\n",
    "for a_chunk in reader_iterator:\n",
    "    i = i+1\n",
    "print(time() - t0)"
   ]
  },
  {
   "cell_type": "code",
   "execution_count": 45,
   "metadata": {},
   "outputs": [],
   "source": [
    "links = pd.read_csv('./data/CGCS-Template.csv')\n",
    "nodes = pd.read_csv('./data/CGCS-Template-NodeTypes.csv')\n",
    "links_type = pd.read_csv('./data/EdgeTypesDescription.csv')\n",
    "nodes_type = pd.read_csv('./data/NodeTypeDescriptions.csv')\n",
    "demographic_categories = pd.read_csv('./data/DemographicCategories.csv')"
   ]
  },
  {
   "cell_type": "code",
   "execution_count": 129,
   "metadata": {},
   "outputs": [],
   "source": [
    "nodes_extended = pd.merge(nodes, nodes_type[['NodeType', 'Description']], left_on='NodeType', right_on='NodeType')\n",
    "nodes_extended = pd.merge(nodes_extended, demographic_categories, how='left', left_on='NodeID', right_on='NodeID')\n",
    "nodes_extended.rename(columns={'NodeType': 'node_type_id', 'Description': 'node_type', 'NodeID': 'id', 'Category': 'category'}, inplace=True)"
   ]
  },
  {
   "cell_type": "code",
   "execution_count": 130,
   "metadata": {},
   "outputs": [],
   "source": [
    "links_extended = pd.merge(links, links_type, left_on='eType', right_on='eType')\n",
    "links_extended.rename(columns={'eType': 'e_type_id', 'Description': 'e_type', 'Source': 'source', 'Target': 'target', 'Time': 'time',\n",
    "                               'Weight': 'weight', 'SourceLocation': 'source_location', 'TargetLocation': 'target_location',\n",
    "                               'SourceLatitude': 'source_latitude', 'SourceLongitude': 'source_longitude',\n",
    "                               'TargetLatitude': 'target_latirude', 'TargetLongitude': 'target_longitude'},\n",
    "                      inplace=True)"
   ]
  },
  {
   "cell_type": "code",
   "execution_count": 131,
   "metadata": {},
   "outputs": [],
   "source": [
    "expenses_by_node = pd.DataFrame(links_extended.loc[links_extended['target'].isin(demographic_categories['NodeID'])].groupby(['source'])['weight'].sum()).reset_index()\n",
    "expenses_by_node.rename(columns={'source': 'id', 'weight': 'total_expense'}, inplace=True)\n",
    "incomes_by_node = pd.DataFrame(links_extended.loc[links_extended['source'].isin(demographic_categories['NodeID'])].groupby(['target'])['weight'].sum()).reset_index()\n",
    "incomes_by_node.rename(columns={'target': 'id', 'weight': 'total_income'}, inplace=True)"
   ]
  },
  {
   "cell_type": "code",
   "execution_count": 133,
   "metadata": {},
   "outputs": [],
   "source": [
    "nodes_extended = pd.merge(nodes_extended, expenses_by_node, how='left', left_on='id', right_on='id')\n",
    "nodes_extended = pd.merge(nodes_extended, incomes_by_node, how='left', left_on='id', right_on='id')"
   ]
  },
  {
   "cell_type": "code",
   "execution_count": 135,
   "metadata": {},
   "outputs": [],
   "source": [
    "nodes_extended.to_json('nodes.json', orient='records', indent=2)\n",
    "links_extended.to_json('links.json', orient='records', indent=2)\n",
    "links_extended.loc[links_extended['e_type_id']!=5].to_json('links_no_financial.json', orient='records', indent=2)\n",
    "nodes_extended.to_csv('nodes.csv', index=False)\n",
    "links_extended.to_csv('links.csv', index=False)\n",
    "links_extended.loc[links_extended['e_type_id']!=5].to_csv('links_no_financial.csv')"
   ]
  },
  {
   "cell_type": "code",
   "execution_count": null,
   "metadata": {},
   "outputs": [],
   "source": []
  }
 ],
 "metadata": {
  "kernelspec": {
   "display_name": "Python 3",
   "language": "python",
   "name": "python3"
  },
  "language_info": {
   "codemirror_mode": {
    "name": "ipython",
    "version": 3
   },
   "file_extension": ".py",
   "mimetype": "text/x-python",
   "name": "python",
   "nbconvert_exporter": "python",
   "pygments_lexer": "ipython3",
   "version": "3.7.7"
  }
 },
 "nbformat": 4,
 "nbformat_minor": 4
}
